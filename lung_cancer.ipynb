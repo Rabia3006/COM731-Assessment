{
 "cells": [
  {
   "cell_type": "code",
   "execution_count": 13,
   "id": "e117a618-08e8-4234-ac92-6ad13abeb182",
   "metadata": {},
   "outputs": [
    {
     "name": "stdin",
     "output_type": "stream",
     "text": [
      "Enter file name: lung_data.csv\n"
     ]
    },
    {
     "name": "stdout",
     "output_type": "stream",
     "text": [
      "your lung_data.csv is now open to read\n"
     ]
    }
   ],
   "source": [
    "import csv \n",
    "def load_data():\n",
    "    print(f\"loading data...{message}!\" , end='\\n')\n",
    "    return load_data\n"
   ]
  },
  {
   "cell_type": "code",
   "execution_count": 25,
   "id": "5fcf4c9b-2682-4005-9497-211edf2fa780",
   "metadata": {},
   "outputs": [
    {
     "ename": "SyntaxError",
     "evalue": "'(' was never closed (3954726774.py, line 36)",
     "output_type": "error",
     "traceback": [
      "\u001b[1;36m  Cell \u001b[1;32mIn[25], line 36\u001b[1;36m\u001b[0m\n\u001b[1;33m    ethnicity=input(\"please Enter the specific ethnicity from the list 'Hispanic', 'Caucasian', 'African American', 'Asian', 'Other'\"\u001b[0m\n\u001b[1;37m                   ^\u001b[0m\n\u001b[1;31mSyntaxError\u001b[0m\u001b[1;31m:\u001b[0m '(' was never closed\n"
     ]
    }
   ],
   "source": [
    "\n",
    "import csv \n",
    "column_index=1\n",
    "records=[]\n",
    "# while True:\n",
    "    # file_name =input (\"Enter file name:\")\n",
    "file_name = \"lung_data.csv\"\n",
    "try:\n",
    "    with open (file_name, encoding =\"utf-8\") as csv_file:\n",
    "        print(f\"your {file_name} is now open to read\")\n",
    "        reader = csv.reader(csv_file)\n",
    "        print(reader)\n",
    "    \n",
    "    # Display heading in csv file\n",
    "        headings=next(csv_file)\n",
    "        header=headings.split(\",\")\n",
    "        #print(header)\n",
    "        for line in reader:\n",
    "            records.append(line)\n",
    "        #print(records[:5])\n",
    "        #print(type(records[1][0]))\n",
    "        Patient_ID=int(input(\"please enter patient id\"))\n",
    "        # print(Patient_ID)\n",
    "        \n",
    "        for record in records:\n",
    "            if Patient_ID == int(record[0]):\n",
    "                print(\"Age: \", record[1])\n",
    "                print(\"Gender: \", record[2])\n",
    "                print(\"Smoking History: \", record[3])\n",
    "                print(\"Ethnicity: \", record[9])\n",
    "                break\n",
    "        unique_ethnicities=[]\n",
    "        for record in records:\n",
    "            if record[9] not in unique_ethnicities:\n",
    "                unique_ethnicities.append(record[9])\n",
    "        print(unique_ethnicities)\n",
    "        ethnicity=input(\"please Enter the specific index from the list 1)'Hispanic',2) 'Caucasian',3) 'African American', 4)'Asian',5) 'Other'\")\n",
    "        if \n",
    "        for record in records:\n",
    "        \n",
    "        #     if ethnicity == int(record[9]):\n",
    "        #         print(\"Age: \", record[1])\n",
    "        #         print(\"Gender: \", record[2])\n",
    "        #         print(\"Smoking History: \", record[3])\n",
    "        #         print(\"Ethnicity: \", record[9])\n",
    "        \n",
    "except FileNotFoundError as e:\n",
    "    print(f\"File Not Found {e}\")\n"
   ]
  },
  {
   "cell_type": "markdown",
   "id": "489355c0-bccc-47a3-98b4-64ed3b2e3e9e",
   "metadata": {},
   "source": []
  },
  {
   "cell_type": "code",
   "execution_count": null,
   "id": "18f6c714-a93d-4486-b369-60cd0190d0fa",
   "metadata": {},
   "outputs": [],
   "source": []
  },
  {
   "cell_type": "code",
   "execution_count": null,
   "id": "c30c3882-75b3-46d9-b100-396af1d0ed79",
   "metadata": {},
   "outputs": [],
   "source": []
  },
  {
   "cell_type": "code",
   "execution_count": null,
   "id": "4a211fe3-9cf8-4449-85b8-01dda83783ba",
   "metadata": {},
   "outputs": [],
   "source": []
  }
 ],
 "metadata": {
  "kernelspec": {
   "display_name": "Python 3 (ipykernel)",
   "language": "python",
   "name": "python3"
  },
  "language_info": {
   "codemirror_mode": {
    "name": "ipython",
    "version": 3
   },
   "file_extension": ".py",
   "mimetype": "text/x-python",
   "name": "python",
   "nbconvert_exporter": "python",
   "pygments_lexer": "ipython3",
   "version": "3.12.4"
  }
 },
 "nbformat": 4,
 "nbformat_minor": 5
}
