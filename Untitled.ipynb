{
 "cells": [
  {
   "cell_type": "code",
   "execution_count": 13,
   "id": "e117a618-08e8-4234-ac92-6ad13abeb182",
   "metadata": {},
   "outputs": [
    {
     "name": "stdin",
     "output_type": "stream",
     "text": [
      "Enter file name: lung_data.csv\n"
     ]
    },
    {
     "name": "stdout",
     "output_type": "stream",
     "text": [
      "your lung_data.csv is now open to read\n"
     ]
    }
   ],
   "source": [
    "import csv \n",
    "def load_data():\n",
    "    print(f\"loading data...{message}!\" , end='\\n')\n",
    "    return load_data\n"
   ]
  },
  {
   "cell_type": "code",
   "execution_count": null,
   "id": "5fcf4c9b-2682-4005-9497-211edf2fa780",
   "metadata": {},
   "outputs": [],
   "source": [
    "\n",
    "import csv \n",
    "while True:\n",
    "    file_name =input (\"Enter file name:\")\n",
    "    try:\n",
    "        with open (file_name, encoding =\"utf-8\") as csv_file:\n",
    "             print(f\"your {file_name} is now open to read\")\n",
    "        break\n",
    "    except FileNotFoundError as e:\n",
    "        print(f\"File Not Found {e}\")"
   ]
  },
  {
   "cell_type": "markdown",
   "id": "489355c0-bccc-47a3-98b4-64ed3b2e3e9e",
   "metadata": {},
   "source": [
    "Retrieve demographic information: age, gender, smoking history, and ethnicity based on the patient ID"
   ]
  },
  {
   "cell_type": "code",
   "execution_count": null,
   "id": "18f6c714-a93d-4486-b369-60cd0190d0fa",
   "metadata": {},
   "outputs": [],
   "source": []
  }
 ],
 "metadata": {
  "kernelspec": {
   "display_name": "Python 3 (ipykernel)",
   "language": "python",
   "name": "python3"
  },
  "language_info": {
   "codemirror_mode": {
    "name": "ipython",
    "version": 3
   },
   "file_extension": ".py",
   "mimetype": "text/x-python",
   "name": "python",
   "nbconvert_exporter": "python",
   "pygments_lexer": "ipython3",
   "version": "3.12.4"
  }
 },
 "nbformat": 4,
 "nbformat_minor": 5
}
